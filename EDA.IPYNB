{
 "cells": [
  {
   "cell_type": "markdown",
   "metadata": {},
   "source": [
    "# EDA y ETL de datos"
   ]
  },
  {
   "cell_type": "code",
   "execution_count": 1,
   "metadata": {},
   "outputs": [],
   "source": [
    "import pandas as pd\n",
    "import numpy as np\n",
    "import matplotlib.pyplot as plt\n",
    "import seaborn as sns"
   ]
  },
  {
   "cell_type": "code",
   "execution_count": 2,
   "metadata": {},
   "outputs": [],
   "source": [
    "df = pd.read_excel('bd_ventas_ESP.xlsx', sheet_name = None)"
   ]
  },
  {
   "cell_type": "code",
   "execution_count": 3,
   "metadata": {},
   "outputs": [],
   "source": [
    "df_1 = df['RegistroVentas']\n",
    "df_2 = df['Productos']\n",
    "df_3 = df['Tiendas']"
   ]
  },
  {
   "cell_type": "code",
   "execution_count": 8,
   "metadata": {},
   "outputs": [
    {
     "data": {
      "text/html": [
       "<div>\n",
       "<style scoped>\n",
       "    .dataframe tbody tr th:only-of-type {\n",
       "        vertical-align: middle;\n",
       "    }\n",
       "\n",
       "    .dataframe tbody tr th {\n",
       "        vertical-align: top;\n",
       "    }\n",
       "\n",
       "    .dataframe thead th {\n",
       "        text-align: right;\n",
       "    }\n",
       "</style>\n",
       "<table border=\"1\" class=\"dataframe\">\n",
       "  <thead>\n",
       "    <tr style=\"text-align: right;\">\n",
       "      <th></th>\n",
       "      <th>ID</th>\n",
       "      <th>Fecha_ Pedido</th>\n",
       "      <th>Cod_Tienda</th>\n",
       "      <th>id_producto</th>\n",
       "      <th>Qtde</th>\n",
       "      <th>Precio_Unitario</th>\n",
       "    </tr>\n",
       "  </thead>\n",
       "  <tbody>\n",
       "    <tr>\n",
       "      <th>0</th>\n",
       "      <td>AX144</td>\n",
       "      <td>2023-01-15</td>\n",
       "      <td>A1500111</td>\n",
       "      <td>1007</td>\n",
       "      <td>35</td>\n",
       "      <td>630.99</td>\n",
       "    </tr>\n",
       "    <tr>\n",
       "      <th>1</th>\n",
       "      <td>AX4456</td>\n",
       "      <td>2023-07-27</td>\n",
       "      <td>A5200100</td>\n",
       "      <td>1007</td>\n",
       "      <td>33</td>\n",
       "      <td>630.99</td>\n",
       "    </tr>\n",
       "    <tr>\n",
       "      <th>2</th>\n",
       "      <td>AX2320</td>\n",
       "      <td>2023-08-03</td>\n",
       "      <td>A1500108</td>\n",
       "      <td>1005</td>\n",
       "      <td>132</td>\n",
       "      <td>999.00</td>\n",
       "    </tr>\n",
       "    <tr>\n",
       "      <th>3</th>\n",
       "      <td>AX4314</td>\n",
       "      <td>2023-07-04</td>\n",
       "      <td>A1500107</td>\n",
       "      <td>1005</td>\n",
       "      <td>72</td>\n",
       "      <td>999.00</td>\n",
       "    </tr>\n",
       "    <tr>\n",
       "      <th>4</th>\n",
       "      <td>AX151</td>\n",
       "      <td>2023-01-15</td>\n",
       "      <td>A1500111</td>\n",
       "      <td>1007</td>\n",
       "      <td>44</td>\n",
       "      <td>630.99</td>\n",
       "    </tr>\n",
       "    <tr>\n",
       "      <th>5</th>\n",
       "      <td>AX5161</td>\n",
       "      <td>2023-11-18</td>\n",
       "      <td>A3100104</td>\n",
       "      <td>1007</td>\n",
       "      <td>46</td>\n",
       "      <td>630.99</td>\n",
       "    </tr>\n",
       "    <tr>\n",
       "      <th>6</th>\n",
       "      <td>AX2399</td>\n",
       "      <td>2023-08-15</td>\n",
       "      <td>A1500111</td>\n",
       "      <td>1005</td>\n",
       "      <td>64</td>\n",
       "      <td>999.00</td>\n",
       "    </tr>\n",
       "    <tr>\n",
       "      <th>7</th>\n",
       "      <td>AX2946</td>\n",
       "      <td>2023-11-12</td>\n",
       "      <td>A1500108</td>\n",
       "      <td>1007</td>\n",
       "      <td>26</td>\n",
       "      <td>630.99</td>\n",
       "    </tr>\n",
       "    <tr>\n",
       "      <th>8</th>\n",
       "      <td>AX1141</td>\n",
       "      <td>2023-04-09</td>\n",
       "      <td>A1500110</td>\n",
       "      <td>1007</td>\n",
       "      <td>27</td>\n",
       "      <td>630.99</td>\n",
       "    </tr>\n",
       "    <tr>\n",
       "      <th>9</th>\n",
       "      <td>AX370</td>\n",
       "      <td>2023-02-01</td>\n",
       "      <td>A1500111</td>\n",
       "      <td>1005</td>\n",
       "      <td>45</td>\n",
       "      <td>999.00</td>\n",
       "    </tr>\n",
       "  </tbody>\n",
       "</table>\n",
       "</div>"
      ],
      "text/plain": [
       "       ID Fecha_ Pedido Cod_Tienda  id_producto  Qtde  Precio_Unitario\n",
       "0   AX144    2023-01-15   A1500111         1007    35           630.99\n",
       "1  AX4456    2023-07-27   A5200100         1007    33           630.99\n",
       "2  AX2320    2023-08-03   A1500108         1005   132           999.00\n",
       "3  AX4314    2023-07-04   A1500107         1005    72           999.00\n",
       "4   AX151    2023-01-15   A1500111         1007    44           630.99\n",
       "5  AX5161    2023-11-18   A3100104         1007    46           630.99\n",
       "6  AX2399    2023-08-15   A1500111         1005    64           999.00\n",
       "7  AX2946    2023-11-12   A1500108         1007    26           630.99\n",
       "8  AX1141    2023-04-09   A1500110         1007    27           630.99\n",
       "9   AX370    2023-02-01   A1500111         1005    45           999.00"
      ]
     },
     "execution_count": 8,
     "metadata": {},
     "output_type": "execute_result"
    }
   ],
   "source": [
    "df_1.head(10)"
   ]
  },
  {
   "cell_type": "code",
   "execution_count": 7,
   "metadata": {},
   "outputs": [
    {
     "data": {
      "text/html": [
       "<div>\n",
       "<style scoped>\n",
       "    .dataframe tbody tr th:only-of-type {\n",
       "        vertical-align: middle;\n",
       "    }\n",
       "\n",
       "    .dataframe tbody tr th {\n",
       "        vertical-align: top;\n",
       "    }\n",
       "\n",
       "    .dataframe thead th {\n",
       "        text-align: right;\n",
       "    }\n",
       "</style>\n",
       "<table border=\"1\" class=\"dataframe\">\n",
       "  <thead>\n",
       "    <tr style=\"text-align: right;\">\n",
       "      <th></th>\n",
       "      <th>id_produto</th>\n",
       "      <th>descripción_producto</th>\n",
       "      <th>img_url</th>\n",
       "    </tr>\n",
       "  </thead>\n",
       "  <tbody>\n",
       "    <tr>\n",
       "      <th>0</th>\n",
       "      <td>1001</td>\n",
       "      <td>Gorra</td>\n",
       "      <td>https://i.imgur.com/X4JTv0h.png</td>\n",
       "    </tr>\n",
       "    <tr>\n",
       "      <th>1</th>\n",
       "      <td>1002</td>\n",
       "      <td>Tennis</td>\n",
       "      <td>https://i.imgur.com/9NQtzTO.png</td>\n",
       "    </tr>\n",
       "    <tr>\n",
       "      <th>2</th>\n",
       "      <td>1003</td>\n",
       "      <td>Maleta</td>\n",
       "      <td>https://i.imgur.com/kQjbSiF.png</td>\n",
       "    </tr>\n",
       "    <tr>\n",
       "      <th>3</th>\n",
       "      <td>1004</td>\n",
       "      <td>Billetera</td>\n",
       "      <td>https://i.imgur.com/4QcHBzp.png</td>\n",
       "    </tr>\n",
       "    <tr>\n",
       "      <th>4</th>\n",
       "      <td>1005</td>\n",
       "      <td>Bolso</td>\n",
       "      <td>https://i.imgur.com/m4JBXe5.png</td>\n",
       "    </tr>\n",
       "    <tr>\n",
       "      <th>5</th>\n",
       "      <td>1006</td>\n",
       "      <td>Audifinos</td>\n",
       "      <td>https://i.imgur.com/TxpAjIc.png</td>\n",
       "    </tr>\n",
       "    <tr>\n",
       "      <th>6</th>\n",
       "      <td>1007</td>\n",
       "      <td>Mochila</td>\n",
       "      <td>https://i.imgur.com/aJK19L9.png</td>\n",
       "    </tr>\n",
       "    <tr>\n",
       "      <th>7</th>\n",
       "      <td>1008</td>\n",
       "      <td>Botella</td>\n",
       "      <td>https://i.imgur.com/fqeyGoK.png</td>\n",
       "    </tr>\n",
       "  </tbody>\n",
       "</table>\n",
       "</div>"
      ],
      "text/plain": [
       "   id_produto descripción_producto                          img_url\n",
       "0        1001                Gorra  https://i.imgur.com/X4JTv0h.png\n",
       "1        1002               Tennis  https://i.imgur.com/9NQtzTO.png\n",
       "2        1003               Maleta  https://i.imgur.com/kQjbSiF.png\n",
       "3        1004            Billetera  https://i.imgur.com/4QcHBzp.png\n",
       "4        1005                Bolso  https://i.imgur.com/m4JBXe5.png\n",
       "5        1006            Audifinos  https://i.imgur.com/TxpAjIc.png\n",
       "6        1007              Mochila  https://i.imgur.com/aJK19L9.png\n",
       "7        1008              Botella  https://i.imgur.com/fqeyGoK.png"
      ]
     },
     "execution_count": 7,
     "metadata": {},
     "output_type": "execute_result"
    }
   ],
   "source": [
    "df_2.head(10)"
   ]
  },
  {
   "cell_type": "code",
   "execution_count": 6,
   "metadata": {},
   "outputs": [
    {
     "data": {
      "text/html": [
       "<div>\n",
       "<style scoped>\n",
       "    .dataframe tbody tr th:only-of-type {\n",
       "        vertical-align: middle;\n",
       "    }\n",
       "\n",
       "    .dataframe tbody tr th {\n",
       "        vertical-align: top;\n",
       "    }\n",
       "\n",
       "    .dataframe thead th {\n",
       "        text-align: right;\n",
       "    }\n",
       "</style>\n",
       "<table border=\"1\" class=\"dataframe\">\n",
       "  <thead>\n",
       "    <tr style=\"text-align: right;\">\n",
       "      <th></th>\n",
       "      <th>codigo_Tienda</th>\n",
       "      <th>nombre_Tienda</th>\n",
       "      <th>Ciudad</th>\n",
       "      <th>Nombre_Estado</th>\n",
       "      <th>Sigla_Estado</th>\n",
       "      <th>Latitud</th>\n",
       "      <th>Longitud</th>\n",
       "    </tr>\n",
       "  </thead>\n",
       "  <tbody>\n",
       "    <tr>\n",
       "      <th>0</th>\n",
       "      <td>A5200050</td>\n",
       "      <td>Tienda 1</td>\n",
       "      <td>Salvador</td>\n",
       "      <td>Bahia</td>\n",
       "      <td>BA</td>\n",
       "      <td>-12.989900</td>\n",
       "      <td>-38.490082</td>\n",
       "    </tr>\n",
       "    <tr>\n",
       "      <th>1</th>\n",
       "      <td>A3100104</td>\n",
       "      <td>Tienda 2</td>\n",
       "      <td>Vitória</td>\n",
       "      <td>Espírito Santo</td>\n",
       "      <td>ES</td>\n",
       "      <td>-20.297944</td>\n",
       "      <td>-40.295975</td>\n",
       "    </tr>\n",
       "    <tr>\n",
       "      <th>2</th>\n",
       "      <td>A5200100</td>\n",
       "      <td>Tienda 3</td>\n",
       "      <td>Manaus</td>\n",
       "      <td>Amazonas</td>\n",
       "      <td>AM</td>\n",
       "      <td>-3.073029</td>\n",
       "      <td>-60.007189</td>\n",
       "    </tr>\n",
       "    <tr>\n",
       "      <th>3</th>\n",
       "      <td>A1500111</td>\n",
       "      <td>Tienda 4</td>\n",
       "      <td>São Luís</td>\n",
       "      <td>Maranhão</td>\n",
       "      <td>MA</td>\n",
       "      <td>-2.555839</td>\n",
       "      <td>-44.254537</td>\n",
       "    </tr>\n",
       "    <tr>\n",
       "      <th>4</th>\n",
       "      <td>A1500107</td>\n",
       "      <td>Tienda 5</td>\n",
       "      <td>São Paulo</td>\n",
       "      <td>São Paulo</td>\n",
       "      <td>SP</td>\n",
       "      <td>-23.609171</td>\n",
       "      <td>-46.693753</td>\n",
       "    </tr>\n",
       "    <tr>\n",
       "      <th>5</th>\n",
       "      <td>A1500108</td>\n",
       "      <td>Tienda 6</td>\n",
       "      <td>Niterói</td>\n",
       "      <td>Rio de Janeiro</td>\n",
       "      <td>RJ</td>\n",
       "      <td>-22.917908</td>\n",
       "      <td>-43.089109</td>\n",
       "    </tr>\n",
       "    <tr>\n",
       "      <th>6</th>\n",
       "      <td>A1500109</td>\n",
       "      <td>Tienda 7</td>\n",
       "      <td>Curitiba</td>\n",
       "      <td>Paraná</td>\n",
       "      <td>PR</td>\n",
       "      <td>-25.463720</td>\n",
       "      <td>-49.285256</td>\n",
       "    </tr>\n",
       "    <tr>\n",
       "      <th>7</th>\n",
       "      <td>A1500110</td>\n",
       "      <td>Tienda 8</td>\n",
       "      <td>Goiânia</td>\n",
       "      <td>Goiás</td>\n",
       "      <td>GO</td>\n",
       "      <td>-16.697754</td>\n",
       "      <td>-49.277471</td>\n",
       "    </tr>\n",
       "  </tbody>\n",
       "</table>\n",
       "</div>"
      ],
      "text/plain": [
       "  codigo_Tienda nombre_Tienda     Ciudad   Nombre_Estado Sigla_Estado  \\\n",
       "0      A5200050      Tienda 1   Salvador           Bahia           BA   \n",
       "1      A3100104      Tienda 2    Vitória  Espírito Santo           ES   \n",
       "2      A5200100      Tienda 3     Manaus        Amazonas           AM   \n",
       "3      A1500111      Tienda 4   São Luís        Maranhão           MA   \n",
       "4      A1500107      Tienda 5  São Paulo       São Paulo           SP   \n",
       "5      A1500108      Tienda 6    Niterói  Rio de Janeiro           RJ   \n",
       "6      A1500109      Tienda 7   Curitiba          Paraná           PR   \n",
       "7      A1500110      Tienda 8    Goiânia           Goiás           GO   \n",
       "\n",
       "     Latitud   Longitud  \n",
       "0 -12.989900 -38.490082  \n",
       "1 -20.297944 -40.295975  \n",
       "2  -3.073029 -60.007189  \n",
       "3  -2.555839 -44.254537  \n",
       "4 -23.609171 -46.693753  \n",
       "5 -22.917908 -43.089109  \n",
       "6 -25.463720 -49.285256  \n",
       "7 -16.697754 -49.277471  "
      ]
     },
     "execution_count": 6,
     "metadata": {},
     "output_type": "execute_result"
    }
   ],
   "source": [
    "df_3.head(10)"
   ]
  },
  {
   "cell_type": "code",
   "execution_count": 9,
   "metadata": {},
   "outputs": [
    {
     "data": {
      "text/plain": [
       "ID                 0\n",
       "Fecha_ Pedido      0\n",
       "Cod_Tienda         0\n",
       "id_producto        0\n",
       "Qtde               0\n",
       "Precio_Unitario    0\n",
       "dtype: int64"
      ]
     },
     "execution_count": 9,
     "metadata": {},
     "output_type": "execute_result"
    }
   ],
   "source": [
    "df_1.isnull().sum()"
   ]
  },
  {
   "cell_type": "code",
   "execution_count": 10,
   "metadata": {},
   "outputs": [
    {
     "data": {
      "text/plain": [
       "(4761, 6)"
      ]
     },
     "execution_count": 10,
     "metadata": {},
     "output_type": "execute_result"
    }
   ],
   "source": [
    "df_1.shape"
   ]
  },
  {
   "cell_type": "markdown",
   "metadata": {},
   "source": [
    "## ETL"
   ]
  },
  {
   "cell_type": "code",
   "execution_count": 11,
   "metadata": {},
   "outputs": [
    {
     "data": {
      "text/html": [
       "<div>\n",
       "<style scoped>\n",
       "    .dataframe tbody tr th:only-of-type {\n",
       "        vertical-align: middle;\n",
       "    }\n",
       "\n",
       "    .dataframe tbody tr th {\n",
       "        vertical-align: top;\n",
       "    }\n",
       "\n",
       "    .dataframe thead th {\n",
       "        text-align: right;\n",
       "    }\n",
       "</style>\n",
       "<table border=\"1\" class=\"dataframe\">\n",
       "  <thead>\n",
       "    <tr style=\"text-align: right;\">\n",
       "      <th></th>\n",
       "      <th>ID</th>\n",
       "      <th>Fecha_ Pedido</th>\n",
       "      <th>Cod_Tienda</th>\n",
       "      <th>id_producto</th>\n",
       "      <th>Qtde</th>\n",
       "      <th>Precio_Unitario</th>\n",
       "      <th>facturación</th>\n",
       "    </tr>\n",
       "  </thead>\n",
       "  <tbody>\n",
       "    <tr>\n",
       "      <th>0</th>\n",
       "      <td>AX144</td>\n",
       "      <td>2023-01-15</td>\n",
       "      <td>A1500111</td>\n",
       "      <td>1007</td>\n",
       "      <td>35</td>\n",
       "      <td>630.99</td>\n",
       "      <td>22084.65</td>\n",
       "    </tr>\n",
       "    <tr>\n",
       "      <th>1</th>\n",
       "      <td>AX4456</td>\n",
       "      <td>2023-07-27</td>\n",
       "      <td>A5200100</td>\n",
       "      <td>1007</td>\n",
       "      <td>33</td>\n",
       "      <td>630.99</td>\n",
       "      <td>20822.67</td>\n",
       "    </tr>\n",
       "    <tr>\n",
       "      <th>2</th>\n",
       "      <td>AX2320</td>\n",
       "      <td>2023-08-03</td>\n",
       "      <td>A1500108</td>\n",
       "      <td>1005</td>\n",
       "      <td>132</td>\n",
       "      <td>999.00</td>\n",
       "      <td>131868.00</td>\n",
       "    </tr>\n",
       "    <tr>\n",
       "      <th>3</th>\n",
       "      <td>AX4314</td>\n",
       "      <td>2023-07-04</td>\n",
       "      <td>A1500107</td>\n",
       "      <td>1005</td>\n",
       "      <td>72</td>\n",
       "      <td>999.00</td>\n",
       "      <td>71928.00</td>\n",
       "    </tr>\n",
       "    <tr>\n",
       "      <th>4</th>\n",
       "      <td>AX151</td>\n",
       "      <td>2023-01-15</td>\n",
       "      <td>A1500111</td>\n",
       "      <td>1007</td>\n",
       "      <td>44</td>\n",
       "      <td>630.99</td>\n",
       "      <td>27763.56</td>\n",
       "    </tr>\n",
       "  </tbody>\n",
       "</table>\n",
       "</div>"
      ],
      "text/plain": [
       "       ID Fecha_ Pedido Cod_Tienda  id_producto  Qtde  Precio_Unitario  \\\n",
       "0   AX144    2023-01-15   A1500111         1007    35           630.99   \n",
       "1  AX4456    2023-07-27   A5200100         1007    33           630.99   \n",
       "2  AX2320    2023-08-03   A1500108         1005   132           999.00   \n",
       "3  AX4314    2023-07-04   A1500107         1005    72           999.00   \n",
       "4   AX151    2023-01-15   A1500111         1007    44           630.99   \n",
       "\n",
       "   facturación  \n",
       "0     22084.65  \n",
       "1     20822.67  \n",
       "2    131868.00  \n",
       "3     71928.00  \n",
       "4     27763.56  "
      ]
     },
     "execution_count": 11,
     "metadata": {},
     "output_type": "execute_result"
    }
   ],
   "source": [
    "# Creo una nueva columna con el nombre facturación que guarde la multiplicación de la columna Qtde por la columna Precio_unitario\n",
    "\n",
    "df_1['facturación'] = df_1['Qtde'] * df_1['Precio_Unitario']\n",
    "df_1.head()"
   ]
  },
  {
   "cell_type": "markdown",
   "metadata": {},
   "source": [
    "## EDA"
   ]
  },
  {
   "cell_type": "code",
   "execution_count": 15,
   "metadata": {},
   "outputs": [
    {
     "name": "stdout",
     "output_type": "stream",
     "text": [
      "<class 'pandas.core.frame.DataFrame'>\n",
      "RangeIndex: 4761 entries, 0 to 4760\n",
      "Data columns (total 7 columns):\n",
      " #   Column           Non-Null Count  Dtype         \n",
      "---  ------           --------------  -----         \n",
      " 0   ID               4761 non-null   object        \n",
      " 1   Fecha_ Pedido    4761 non-null   datetime64[ns]\n",
      " 2   Cod_Tienda       4761 non-null   object        \n",
      " 3   id_producto      4761 non-null   int64         \n",
      " 4   Qtde             4761 non-null   int64         \n",
      " 5   Precio_Unitario  4761 non-null   float64       \n",
      " 6   facturación      4761 non-null   float64       \n",
      "dtypes: datetime64[ns](1), float64(2), int64(2), object(2)\n",
      "memory usage: 260.5+ KB\n"
     ]
    }
   ],
   "source": [
    "# Vemos la información general del DataFrame\n",
    "df_1.info()"
   ]
  },
  {
   "cell_type": "code",
   "execution_count": 16,
   "metadata": {},
   "outputs": [
    {
     "data": {
      "text/html": [
       "<div>\n",
       "<style scoped>\n",
       "    .dataframe tbody tr th:only-of-type {\n",
       "        vertical-align: middle;\n",
       "    }\n",
       "\n",
       "    .dataframe tbody tr th {\n",
       "        vertical-align: top;\n",
       "    }\n",
       "\n",
       "    .dataframe thead th {\n",
       "        text-align: right;\n",
       "    }\n",
       "</style>\n",
       "<table border=\"1\" class=\"dataframe\">\n",
       "  <thead>\n",
       "    <tr style=\"text-align: right;\">\n",
       "      <th></th>\n",
       "      <th>Fecha_ Pedido</th>\n",
       "      <th>id_producto</th>\n",
       "      <th>Qtde</th>\n",
       "      <th>Precio_Unitario</th>\n",
       "      <th>facturación</th>\n",
       "    </tr>\n",
       "  </thead>\n",
       "  <tbody>\n",
       "    <tr>\n",
       "      <th>count</th>\n",
       "      <td>4761</td>\n",
       "      <td>4761.000000</td>\n",
       "      <td>4761.000000</td>\n",
       "      <td>4761.000000</td>\n",
       "      <td>4761.000000</td>\n",
       "    </tr>\n",
       "    <tr>\n",
       "      <th>mean</th>\n",
       "      <td>2023-06-16 03:31:43.213610496</td>\n",
       "      <td>1004.568578</td>\n",
       "      <td>40.804663</td>\n",
       "      <td>386.169653</td>\n",
       "      <td>15303.774367</td>\n",
       "    </tr>\n",
       "    <tr>\n",
       "      <th>min</th>\n",
       "      <td>2023-01-01 00:00:00</td>\n",
       "      <td>1001.000000</td>\n",
       "      <td>1.000000</td>\n",
       "      <td>119.300000</td>\n",
       "      <td>119.300000</td>\n",
       "    </tr>\n",
       "    <tr>\n",
       "      <th>25%</th>\n",
       "      <td>2023-03-19 00:00:00</td>\n",
       "      <td>1003.000000</td>\n",
       "      <td>21.000000</td>\n",
       "      <td>159.000000</td>\n",
       "      <td>4929.000000</td>\n",
       "    </tr>\n",
       "    <tr>\n",
       "      <th>50%</th>\n",
       "      <td>2023-06-04 00:00:00</td>\n",
       "      <td>1005.000000</td>\n",
       "      <td>33.000000</td>\n",
       "      <td>210.000000</td>\n",
       "      <td>9240.000000</td>\n",
       "    </tr>\n",
       "    <tr>\n",
       "      <th>75%</th>\n",
       "      <td>2023-09-13 00:00:00</td>\n",
       "      <td>1007.000000</td>\n",
       "      <td>47.000000</td>\n",
       "      <td>630.990000</td>\n",
       "      <td>19851.780000</td>\n",
       "    </tr>\n",
       "    <tr>\n",
       "      <th>max</th>\n",
       "      <td>2023-12-31 00:00:00</td>\n",
       "      <td>1008.000000</td>\n",
       "      <td>416.000000</td>\n",
       "      <td>999.000000</td>\n",
       "      <td>203796.000000</td>\n",
       "    </tr>\n",
       "    <tr>\n",
       "      <th>std</th>\n",
       "      <td>NaN</td>\n",
       "      <td>2.288529</td>\n",
       "      <td>36.037820</td>\n",
       "      <td>284.897852</td>\n",
       "      <td>17575.462429</td>\n",
       "    </tr>\n",
       "  </tbody>\n",
       "</table>\n",
       "</div>"
      ],
      "text/plain": [
       "                       Fecha_ Pedido  id_producto         Qtde  \\\n",
       "count                           4761  4761.000000  4761.000000   \n",
       "mean   2023-06-16 03:31:43.213610496  1004.568578    40.804663   \n",
       "min              2023-01-01 00:00:00  1001.000000     1.000000   \n",
       "25%              2023-03-19 00:00:00  1003.000000    21.000000   \n",
       "50%              2023-06-04 00:00:00  1005.000000    33.000000   \n",
       "75%              2023-09-13 00:00:00  1007.000000    47.000000   \n",
       "max              2023-12-31 00:00:00  1008.000000   416.000000   \n",
       "std                              NaN     2.288529    36.037820   \n",
       "\n",
       "       Precio_Unitario    facturación  \n",
       "count      4761.000000    4761.000000  \n",
       "mean        386.169653   15303.774367  \n",
       "min         119.300000     119.300000  \n",
       "25%         159.000000    4929.000000  \n",
       "50%         210.000000    9240.000000  \n",
       "75%         630.990000   19851.780000  \n",
       "max         999.000000  203796.000000  \n",
       "std         284.897852   17575.462429  "
      ]
     },
     "execution_count": 16,
     "metadata": {},
     "output_type": "execute_result"
    }
   ],
   "source": [
    "# vemos un resumen estadístico de la columna\n",
    "df_1.describe()"
   ]
  },
  {
   "cell_type": "code",
   "execution_count": 17,
   "metadata": {},
   "outputs": [
    {
     "data": {
      "text/plain": [
       "<Axes: >"
      ]
     },
     "execution_count": 17,
     "metadata": {},
     "output_type": "execute_result"
    },
    {
     "data": {
      "image/png": "[encoded data removed]",
      "text/plain": [
       "<Figure size 640x480 with 1 Axes>"
      ]
     },
     "metadata": {},
     "output_type": "display_data"
    }
   ],
   "source": [
    "# Vemos la distribución de la columna facturación\n",
    "df_1['facturación'].hist(bins=20)"
   ]
  },
  {
   "cell_type": "code",
   "execution_count": 19,
   "metadata": {},
   "outputs": [
    {
     "data": {
      "image/png": "[encoded data removed]",
      "text/plain": [
       "<Figure size 1000x800 with 2 Axes>"
      ]
     },
     "metadata": {},
     "output_type": "display_data"
    }
   ],
   "source": [
    "# Vemos una matriz de correlación\n",
    "df_numerico = df_1.select_dtypes(include='number')\n",
    "\n",
    "corr_matrix = df_numerico.corr()\n",
    "\n",
    "plt.figure(figsize=(10, 8))\n",
    "sns.heatmap(corr_matrix, annot=True, cmap='coolwarm', fmt='.2f', vmin=-1, vmax=1)\n",
    "plt.title('Matriz de Correlación')\n",
    "plt.show()"
   ]
  },
  {
   "cell_type": "code",
   "execution_count": 24,
   "metadata": {},
   "outputs": [
    {
     "data": {
      "text/plain": [
       "<Axes: xlabel='Fecha_ Pedido'>"
      ]
     },
     "execution_count": 24,
     "metadata": {},
     "output_type": "execute_result"
    },
    {
     "data": {
      "image/png": "[encoded data removed]",
      "text/plain": [
       "<Figure size 640x480 with 1 Axes>"
      ]
     },
     "metadata": {},
     "output_type": "display_data"
    }
   ],
   "source": [
    "# Observamos la tendencia temporal de los pedidos en los mese que se factura más\n",
    "df_1['Fecha_ Pedido'] = pd.to_datetime(df_1['Fecha_ Pedido'])\n",
    "\n",
    "df_1.groupby(df_1['Fecha_ Pedido'].dt.to_period(\"M\"))['facturación'].sum().plot(kind='line')"
   ]
  },
  {
   "cell_type": "code",
   "execution_count": 27,
   "metadata": {},
   "outputs": [],
   "source": [
    "# Guardamos los DataFrames en un excel\n",
    "with pd.ExcelWriter('bd_limpio.xlsx') as writer:\n",
    "    # Guarda el primer DataFrame en la primera hoja\n",
    "    df_1.to_excel(writer, sheet_name='RegistroVentas', index=False)\n",
    "    \n",
    "    # Guarda el segundo DataFrame en la segunda hoja\n",
    "    df_2.to_excel(writer, sheet_name='Productos', index=False)\n",
    "\n",
    "    # Guarda el tercer DataFrame en la tercera hoja\n",
    "    df_3.to_excel(writer, sheet_name='Tiendas', index=False)"
   ]
  }
 ],
 "metadata": {
  "kernelspec": {
   "display_name": "Python 3",
   "language": "python",
   "name": "python3"
  },
  "language_info": {
   "codemirror_mode": {
    "name": "ipython",
    "version": 3
   },
   "file_extension": ".py",
   "mimetype": "text/x-python",
   "name": "python",
   "nbconvert_exporter": "python",
   "pygments_lexer": "ipython3",
   "version": "3.10.11"
  }
 },
 "nbformat": 4,
 "nbformat_minor": 2
}
